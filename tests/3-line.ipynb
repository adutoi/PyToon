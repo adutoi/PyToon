{
 "cells": [
  {
   "cell_type": "markdown",
   "metadata": {},
   "source": [
    "© Copyright 2020 Anthony D. Dutoi\n",
    "\n",
    "This file is part of PyToon.\n",
    "\n",
    "PyToon is free software: you can redistribute it and/or modify\n",
    "it under the terms of the GNU General Public License as published by\n",
    "the Free Software Foundation, either version 3 of the License, or\n",
    "(at your option) any later version.\n",
    "\n",
    "This program is distributed in the hope that it will be useful,\n",
    "but WITHOUT ANY WARRANTY; without even the implied warranty of\n",
    "MERCHANTABILITY or FITNESS FOR A PARTICULAR PURPOSE.  See the\n",
    "GNU General Public License for more details.\n",
    "\n",
    "You should have received a copy of the GNU General Public License\n",
    "along with this program.  If not, see <http://www.gnu.org/licenses/>."
   ]
  },
  {
   "cell_type": "code",
   "execution_count": 1,
   "metadata": {},
   "outputs": [],
   "source": [
    "from IPython.display import SVG\n",
    "from pytoon import line, translate"
   ]
  },
  {
   "cell_type": "code",
   "execution_count": 2,
   "metadata": {},
   "outputs": [
    {
     "data": {
      "image/svg+xml": [
       "<svg xmlns=\"http://www.w3.org/2000/svg\" width=\"100%\" height=\"100%\" viewBox=\"-10.0 -110.0 120.0 120.0\">\n",
       "\n",
       "  <desc>\n",
       "    This file was created using the PyToon package by Anthony D. Dutoi [https://github.com/adutoi/PyToon, tonydutoi@gmail.com].\n",
       "  </desc>\n",
       "\n",
       "  <path stroke=\"#000000\" stroke-width=\"1\" fill=\"none\" d=\"M 0 0 L 100 -100\"/>\n",
       "\n",
       "</svg>"
      ],
      "text/plain": [
       "<IPython.core.display.SVG object>"
      ]
     },
     "execution_count": 2,
     "metadata": {},
     "output_type": "execute_result"
    }
   ],
   "source": [
    "# Should display a black line at a 45 degree angle\n",
    "\n",
    "image = line()\n",
    "\n",
    "image.svg(\"outputs/line\")\n",
    "SVG(\"outputs/line.svg\")"
   ]
  },
  {
   "cell_type": "code",
   "execution_count": 3,
   "metadata": {
    "scrolled": true
   },
   "outputs": [
    {
     "data": {
      "image/svg+xml": [
       "<svg xmlns=\"http://www.w3.org/2000/svg\" width=\"100%\" height=\"100%\" viewBox=\"-10.0 -0.5 120.0 6.0\">\n",
       "\n",
       "  <desc>\n",
       "    This file was created using the PyToon package by Anthony D. Dutoi [https://github.com/adutoi/PyToon, tonydutoi@gmail.com].\n",
       "  </desc>\n",
       "\n",
       "  <path stroke=\"#FF0000\" stroke-width=\"1\" fill=\"none\" d=\"M 0 0 L 100 0\"/>\n",
       "\n",
       "</svg>"
      ],
      "text/plain": [
       "<IPython.core.display.SVG object>"
      ]
     },
     "execution_count": 3,
     "metadata": {},
     "output_type": "execute_result"
    }
   ],
   "source": [
    "# Should display a horizontal red line\n",
    "\n",
    "image = line(displacement=(100,0), lstyle=\"red\")\n",
    "\n",
    "image.svg(\"outputs/red\")\n",
    "SVG(\"outputs/red.svg\")"
   ]
  },
  {
   "cell_type": "code",
   "execution_count": 4,
   "metadata": {},
   "outputs": [],
   "source": [
    "# Should be quiet; used below\n",
    "\n",
    "prototype = line(displacement=(100,0), lstyle=\"color\")"
   ]
  },
  {
   "cell_type": "code",
   "execution_count": 5,
   "metadata": {},
   "outputs": [
    {
     "data": {
      "image/svg+xml": [
       "<svg xmlns=\"http://www.w3.org/2000/svg\" width=\"100%\" height=\"100%\" viewBox=\"-10.0 -0.5 120.0 6.0\">\n",
       "\n",
       "  <desc>\n",
       "    This file was created using the PyToon package by Anthony D. Dutoi [https://github.com/adutoi/PyToon, tonydutoi@gmail.com].\n",
       "  </desc>\n",
       "\n",
       "  <path stroke=\"#FFA500\" stroke-width=\"1\" fill=\"none\" d=\"M 0 0 L 100 0\"/>\n",
       "\n",
       "</svg>"
      ],
      "text/plain": [
       "<IPython.core.display.SVG object>"
      ]
     },
     "execution_count": 5,
     "metadata": {},
     "output_type": "execute_result"
    }
   ],
   "source": [
    "# Should display a horizontal orange line\n",
    "\n",
    "image = prototype(color=\"orange\")\n",
    "\n",
    "image.svg(\"outputs/orange\")\n",
    "SVG(\"outputs/orange.svg\")"
   ]
  },
  {
   "cell_type": "code",
   "execution_count": 6,
   "metadata": {},
   "outputs": [
    {
     "data": {
      "image/svg+xml": [
       "<svg xmlns=\"http://www.w3.org/2000/svg\" width=\"100%\" height=\"100%\" viewBox=\"-10.0 -0.5 120.0 6.0\">\n",
       "\n",
       "  <desc>\n",
       "    This file was created using the PyToon package by Anthony D. Dutoi [https://github.com/adutoi/PyToon, tonydutoi@gmail.com].\n",
       "  </desc>\n",
       "\n",
       "  <path stroke=\"#FFFF00\" stroke-width=\"1\" fill=\"none\" d=\"M 0 0 L 100 0\"/>\n",
       "\n",
       "</svg>"
      ],
      "text/plain": [
       "<IPython.core.display.SVG object>"
      ]
     },
     "execution_count": 6,
     "metadata": {},
     "output_type": "execute_result"
    }
   ],
   "source": [
    "# Should display a horizontal yellow line\n",
    "\n",
    "image = prototype(color=\"yellow\")\n",
    "\n",
    "image.svg(\"outputs/yellow\")\n",
    "SVG(\"outputs/yellow.svg\")"
   ]
  },
  {
   "cell_type": "code",
   "execution_count": 7,
   "metadata": {},
   "outputs": [
    {
     "data": {
      "image/svg+xml": [
       "<svg xmlns=\"http://www.w3.org/2000/svg\" width=\"100%\" height=\"100%\" viewBox=\"-10.0 -0.5 120.0 6.0\">\n",
       "\n",
       "  <desc>\n",
       "    This file was created using the PyToon package by Anthony D. Dutoi [https://github.com/adutoi/PyToon, tonydutoi@gmail.com].\n",
       "  </desc>\n",
       "\n",
       "  <path stroke=\"#008000\" stroke-width=\"1\" fill=\"none\" d=\"M 0 0 L 100 0\"/>\n",
       "\n",
       "</svg>"
      ],
      "text/plain": [
       "<IPython.core.display.SVG object>"
      ]
     },
     "execution_count": 7,
     "metadata": {},
     "output_type": "execute_result"
    }
   ],
   "source": [
    "# Should display a horizontal green line\n",
    "\n",
    "image = prototype(color=\"green\")\n",
    "\n",
    "image.svg(\"outputs/green\")\n",
    "SVG(\"outputs/green.svg\")"
   ]
  },
  {
   "cell_type": "code",
   "execution_count": 8,
   "metadata": {},
   "outputs": [
    {
     "data": {
      "image/svg+xml": [
       "<svg xmlns=\"http://www.w3.org/2000/svg\" width=\"100%\" height=\"100%\" viewBox=\"-10.0 -0.5 120.0 6.0\">\n",
       "\n",
       "  <desc>\n",
       "    This file was created using the PyToon package by Anthony D. Dutoi [https://github.com/adutoi/PyToon, tonydutoi@gmail.com].\n",
       "  </desc>\n",
       "\n",
       "  <path stroke=\"#0000FF\" stroke-width=\"1\" fill=\"none\" d=\"M 0 0 L 100 0\"/>\n",
       "\n",
       "</svg>"
      ],
      "text/plain": [
       "<IPython.core.display.SVG object>"
      ]
     },
     "execution_count": 8,
     "metadata": {},
     "output_type": "execute_result"
    }
   ],
   "source": [
    "# Should display a horizontal blue line\n",
    "\n",
    "image = prototype(color=\"blue\")\n",
    "\n",
    "image.svg(\"outputs/blue\")\n",
    "SVG(\"outputs/blue.svg\")"
   ]
  },
  {
   "cell_type": "code",
   "execution_count": 9,
   "metadata": {},
   "outputs": [
    {
     "data": {
      "image/svg+xml": [
       "<svg xmlns=\"http://www.w3.org/2000/svg\" width=\"100%\" height=\"100%\" viewBox=\"-10.0 -0.5 120.0 6.0\">\n",
       "\n",
       "  <desc>\n",
       "    This file was created using the PyToon package by Anthony D. Dutoi [https://github.com/adutoi/PyToon, tonydutoi@gmail.com].\n",
       "  </desc>\n",
       "\n",
       "  <path stroke=\"#800080\" stroke-width=\"1\" fill=\"none\" d=\"M 0 0 L 100 0\"/>\n",
       "\n",
       "</svg>"
      ],
      "text/plain": [
       "<IPython.core.display.SVG object>"
      ]
     },
     "execution_count": 9,
     "metadata": {},
     "output_type": "execute_result"
    }
   ],
   "source": [
    "# Should display a horizontal purple line\n",
    "\n",
    "image = prototype(color=\"purple\")\n",
    "\n",
    "image.svg(\"outputs/purple\")\n",
    "SVG(\"outputs/purple.svg\")"
   ]
  },
  {
   "cell_type": "code",
   "execution_count": 10,
   "metadata": {},
   "outputs": [
    {
     "data": {
      "image/svg+xml": [
       "<svg xmlns=\"http://www.w3.org/2000/svg\" width=\"100%\" height=\"100%\" viewBox=\"-10.0 -100.0 120.0 1200.0\">\n",
       "\n",
       "  <desc>\n",
       "    This file was created using the PyToon package by Anthony D. Dutoi [https://github.com/adutoi/PyToon, tonydutoi@gmail.com].\n",
       "  </desc>\n",
       "\n",
       "  <path stroke=\"#A52A2A\" stroke-width=\"10\" fill=\"none\" d=\"M 0 1000 L 100 990\"/>\n",
       "\n",
       "</svg>"
      ],
      "text/plain": [
       "<IPython.core.display.SVG object>"
      ]
     },
     "execution_count": 10,
     "metadata": {},
     "output_type": "execute_result"
    }
   ],
   "source": [
    "# Should display a slightly tilted fat brown line.  Scroll way down to see because jupyter ignores viewBox.\n",
    "\n",
    "prototype = line(displacement=(100,10), transform=translate(\"Dx\",\"Dy\"))\n",
    "\n",
    "image = prototype(lstyle=(10,\"brown\"), Dx=0, Dy=-1000)\n",
    "\n",
    "image.svg(\"outputs/translated\")\n",
    "SVG(\"outputs/translated.svg\")"
   ]
  },
  {
   "cell_type": "code",
   "execution_count": null,
   "metadata": {},
   "outputs": [],
   "source": []
  }
 ],
 "metadata": {
  "anaconda-cloud": {},
  "kernelspec": {
   "display_name": "Python 3",
   "language": "python",
   "name": "python3"
  },
  "language_info": {
   "codemirror_mode": {
    "name": "ipython",
    "version": 3
   },
   "file_extension": ".py",
   "mimetype": "text/x-python",
   "name": "python",
   "nbconvert_exporter": "python",
   "pygments_lexer": "ipython3",
   "version": "3.8.5"
  }
 },
 "nbformat": 4,
 "nbformat_minor": 1
}
