{
 "cells": [
  {
   "cell_type": "markdown",
   "metadata": {},
   "source": [
    "© Copyright 2020 Anthony D. Dutoi\n",
    "\n",
    "This file is part of PyToon.\n",
    "\n",
    "PyToon is free software: you can redistribute it and/or modify\n",
    "it under the terms of the GNU General Public License as published by\n",
    "the Free Software Foundation, either version 3 of the License, or\n",
    "(at your option) any later version.\n",
    "\n",
    "This program is distributed in the hope that it will be useful,\n",
    "but WITHOUT ANY WARRANTY; without even the implied warranty of\n",
    "MERCHANTABILITY or FITNESS FOR A PARTICULAR PURPOSE.  See the\n",
    "GNU General Public License for more details.\n",
    "\n",
    "You should have received a copy of the GNU General Public License\n",
    "along with this program.  If not, see <http://www.gnu.org/licenses/>."
   ]
  },
  {
   "cell_type": "code",
   "execution_count": 1,
   "metadata": {},
   "outputs": [],
   "source": [
    "from pytoon.util import struct, colors"
   ]
  },
  {
   "cell_type": "code",
   "execution_count": 2,
   "metadata": {
    "scrolled": true
   },
   "outputs": [
    {
     "name": "stdout",
     "output_type": "stream",
     "text": [
      "struct(rgb='#FF0000', a=None)\n",
      "struct(rgb='none', a=0)\n",
      "struct(rgb='#0000FF', a=0.5)\n",
      "struct(rgb='#FFFF00', a=0.5)\n",
      "struct(rgb='#008000', a=1)\n",
      "struct(rgb='#008000', a=None)\n",
      "struct(rgb='none', a=0)\n",
      "struct(rgb='#363636', a=None)\n",
      "struct(rgb='none', a=0)\n",
      "struct(rgb='#121212', a=0.5)\n",
      "struct(rgb='#EDEDED', a=0.5)\n",
      "struct(rgb='#5C5C5C', a=1)\n",
      "struct(rgb='#5C5C5C', a=None)\n",
      "struct(rgb='none', a=0)\n"
     ]
    }
   ],
   "source": [
    "color = colors.color_parser(grayscale=False)\n",
    "print(color(\"red\"))\n",
    "print(color(\"none\"))\n",
    "print(color(\"blue*0.5\"))\n",
    "print(color(\"0.5*yellow\"))\n",
    "print(color(struct(rgb=\"green\",a=1)))\n",
    "print(color(struct(rgb=\"green\",a=None)))\n",
    "print(color(struct(rgb=None,a=1)))\n",
    "\n",
    "color = colors.color_parser(grayscale=True)\n",
    "print(color(\"red\"))\n",
    "print(color(\"none\"))\n",
    "print(color(\"blue*0.5\"))\n",
    "print(color(\"0.5*yellow\"))\n",
    "print(color(struct(rgb=\"green\",a=1)))\n",
    "print(color(struct(rgb=\"green\",a=None)))\n",
    "print(color(struct(rgb=None,a=1)))\n",
    "\n",
    "_ = \"\"\"\n",
    "Should produce:\n",
    "struct(rgb='#FF0000', a=None)\n",
    "struct(rgb='none', a=0)\n",
    "struct(rgb='#0000FF', a=0.5)\n",
    "struct(rgb='#FFFF00', a=0.5)\n",
    "struct(rgb='#008000', a=1)\n",
    "struct(rgb='#008000', a=None)\n",
    "struct(rgb='none', a=0)\n",
    "struct(rgb='#363636', a=None)\n",
    "struct(rgb='none', a=0)\n",
    "struct(rgb='#121212', a=0.5)\n",
    "struct(rgb='#EDEDED', a=0.5)\n",
    "struct(rgb='#5C5C5C', a=1)\n",
    "struct(rgb='#5C5C5C', a=None)\n",
    "struct(rgb='none', a=0)\n",
    "\n",
    "\"\"\""
   ]
  },
  {
   "cell_type": "code",
   "execution_count": 3,
   "metadata": {},
   "outputs": [
    {
     "data": {
      "image/svg+xml": [
       "<svg xmlns=\"http://www.w3.org/2000/svg\" width=\"100%\" height=\"100%\" viewBox=\"-111.0 -41.0 1212.0 372.0\">\n",
       "\n",
       "  <desc>\n",
       "    This file was created using the PyToon package by Anthony D. Dutoi [https://github.com/adutoi/PyToon, tonydutoi@gmail.com].\n",
       "  </desc>\n",
       "\n",
       "  <path fill=\"#ffffff\" d=\"M -10 -10 L 1000 -10 L 1000 300 L -10 300 L -10 -10\"/>\n",
       "  <path stroke=\"#ff0000\" stroke-width=\"3\" fill=\"none\" d=\"M 0 0 L 100 100\"/>\n",
       "  <path stroke=\"#ff0000\" stroke-width=\"30\" fill=\"none\" d=\"M 100 150 L 100 180\"/>\n",
       "  <circle stroke=\"#ff0000\" stroke-width=\"30\" fill=\"none\" r=\"40\" cx=\"100\" cy=\"150\"/>\n",
       "  <path stroke=\"#ff0000\" stroke-opacity=\"0.5\" stroke-width=\"5\" stroke-dasharray=\"5 5\" fill=\"#00ff00\" fill-opacity=\"0.5\" d=\"M 10 200 A 400 400 0 0 0 210 200\"/>\n",
       "\n",
       "</svg>"
      ],
      "text/plain": [
       "<IPython.core.display.SVG object>"
      ]
     },
     "execution_count": 3,
     "metadata": {},
     "output_type": "execute_result"
    }
   ],
   "source": [
    "# Should display a random graphic, a bit like a Q in a shallow dotted dish of green, with a long antenna\n",
    "\n",
    "from IPython.display import SVG\n",
    "from pytoon import draw\n",
    "\n",
    "canvas = draw.svg(\"outputs/lala\")\n",
    "canvas.polygon( points=[(-10,10),(1000,10),(1000,-300),(-10,-300)],         lstyle=None,                      fstyle=\"#ffffff\")\n",
    "canvas.line(    begin=(0,0),      end=(100,-100),                           lstyle=(3, \"#ff0000\"))\n",
    "canvas.line(    begin=(100,-150), end=(100,-180),                           lstyle=(30,\"#ff0000\"))\n",
    "canvas.circle(  center=(100,-150),                radius=40,                lstyle=(30,\"#ff0000\"))\n",
    "canvas.arc(     begin=(10,-200),  end=(210,-200), radius=(400,400), skew=0, lstyle=(5, \"#ff0000*0.5\", (1,1)), fstyle=\"#00ff00*0.5\")\n",
    "canvas.finish()\n",
    "\n",
    "SVG(filename=\"outputs/lala.svg\")"
   ]
  },
  {
   "cell_type": "code",
   "execution_count": null,
   "metadata": {},
   "outputs": [],
   "source": []
  }
 ],
 "metadata": {
  "anaconda-cloud": {},
  "kernelspec": {
   "display_name": "Python 3",
   "language": "python",
   "name": "python3"
  },
  "language_info": {
   "codemirror_mode": {
    "name": "ipython",
    "version": 3
   },
   "file_extension": ".py",
   "mimetype": "text/x-python",
   "name": "python",
   "nbconvert_exporter": "python",
   "pygments_lexer": "ipython3",
   "version": "3.8.6"
  }
 },
 "nbformat": 4,
 "nbformat_minor": 1
}
