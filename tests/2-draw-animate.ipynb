{
 "cells": [
  {
   "cell_type": "markdown",
   "metadata": {},
   "source": [
    "© Copyright 2020 Anthony D. Dutoi\n",
    "\n",
    "This file is part of PyToon.\n",
    "\n",
    "PyToon is free software: you can redistribute it and/or modify\n",
    "it under the terms of the GNU General Public License as published by\n",
    "the Free Software Foundation, either version 3 of the License, or\n",
    "(at your option) any later version.\n",
    "\n",
    "This program is distributed in the hope that it will be useful,\n",
    "but WITHOUT ANY WARRANTY; without even the implied warranty of\n",
    "MERCHANTABILITY or FITNESS FOR A PARTICULAR PURPOSE.  See the\n",
    "GNU General Public License for more details.\n",
    "\n",
    "You should have received a copy of the GNU General Public License\n",
    "along with this program.  If not, see <http://www.gnu.org/licenses/>."
   ]
  },
  {
   "cell_type": "code",
   "execution_count": 1,
   "metadata": {},
   "outputs": [],
   "source": [
    "from IPython.display import SVG\n",
    "from pytoon import struct, draw"
   ]
  },
  {
   "cell_type": "code",
   "execution_count": 2,
   "metadata": {},
   "outputs": [],
   "source": [
    "weights = [\n",
    "    (0.0, 1),\n",
    "    (0.2, 2),\n",
    "    (0.4, 3),\n",
    "    (0.6, 4),\n",
    "    (0.8, 5)\n",
    "]\n",
    "\n",
    "canvas = draw.svg(\"outputs/animated-width\", title=\"Element-wise Animation\", duration=1, controls=struct(scale=0.5))\n",
    "canvas.line(begin=(-10,-20), end=(120,110), lstyle=0)\n",
    "canvas.line(begin=(120,-20), end=(-10,110), lstyle=0)\n",
    "canvas.line(begin=(0,0), end=(0,100), lstyle=(weights, \"#00ff00\"))\n",
    "canvas.finish()"
   ]
  },
  {
   "cell_type": "markdown",
   "metadata": {},
   "source": [
    "[link to animation file](files/outputs/animated-width.svg)"
   ]
  }
 ],
 "metadata": {
  "anaconda-cloud": {},
  "kernelspec": {
   "display_name": "Python 3",
   "language": "python",
   "name": "python3"
  },
  "language_info": {
   "codemirror_mode": {
    "name": "ipython",
    "version": 3
   },
   "file_extension": ".py",
   "mimetype": "text/x-python",
   "name": "python",
   "nbconvert_exporter": "python",
   "pygments_lexer": "ipython3",
   "version": "3.8.6"
  }
 },
 "nbformat": 4,
 "nbformat_minor": 1
}
