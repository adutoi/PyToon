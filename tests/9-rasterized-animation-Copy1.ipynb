{
 "cells": [
  {
   "cell_type": "code",
   "execution_count": 1,
   "metadata": {},
   "outputs": [],
   "source": [
    "from math import cos, pi\n",
    "from pytoon import *"
   ]
  },
  {
   "cell_type": "code",
   "execution_count": 2,
   "metadata": {},
   "outputs": [],
   "source": [
    "def rgba(x,y,t):\n",
    "    a = 0.5 + (x**2 + y**2) * cos(2*pi*t) / 4.001\n",
    "    return \"#ff0000 * {}\", a\n",
    "\n",
    "def colorY(x,y):\n",
    "    def color(_t_):\n",
    "        rgb, a = rgba(x,y,_t_)\n",
    "        return rgb.format(a/(2-a))\n",
    "    return animated(color,Dt=0.05)\n",
    "\n",
    "def colorZ(x,y):\n",
    "    def color(_t_):\n",
    "        rgb, a = rgba(x,y,_t_)\n",
    "        return rgb.format(a/2)\n",
    "    return animated(color,Dt=0.05)\n",
    "\n",
    "pixel = polygon(points=[(-0.501,-0.501),(0.501,-0.501),(0.501,0.501),(-0.501,0.501)], lstyle=False)\n",
    "\n",
    "pixelsY = []\n",
    "for i in range(-12,13):\n",
    "    x = i/12\n",
    "    for j in range(-12,13):\n",
    "        y = j/12\n",
    "        pixelsY += [pixel(fstyle=colorY(x,y)).T(i,j)]\n",
    "        \n",
    "pixelsZ = []\n",
    "for i in range(-12,12):\n",
    "    x = (i+1/2)/12 \n",
    "    for j in range(-12,12):\n",
    "        y = (j+1/2)/12\n",
    "        pixelsZ += [pixel(fstyle=colorZ(x,y)).T(i+1/2,j+1/2)]\n",
    "\n",
    "composite([\n",
    "    circle(radius=12),\n",
    "    *pixelsY,\n",
    "    *pixelsZ\n",
    "]).svg(\"outputs/rasterized\", time=(0,1), duration=5, background=\"#333333\")"
   ]
  },
  {
   "cell_type": "markdown",
   "metadata": {},
   "source": [
    "[link to animation file](files/outputs/rasterized.svg)"
   ]
  },
  {
   "cell_type": "code",
   "execution_count": null,
   "metadata": {},
   "outputs": [],
   "source": []
  }
 ],
 "metadata": {
  "kernelspec": {
   "display_name": "Python 3",
   "language": "python",
   "name": "python3"
  },
  "language_info": {
   "codemirror_mode": {
    "name": "ipython",
    "version": 3
   },
   "file_extension": ".py",
   "mimetype": "text/x-python",
   "name": "python",
   "nbconvert_exporter": "python",
   "pygments_lexer": "ipython3",
   "version": "3.8.6"
  }
 },
 "nbformat": 4,
 "nbformat_minor": 4
}
