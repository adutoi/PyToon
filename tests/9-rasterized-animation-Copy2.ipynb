{
 "cells": [
  {
   "cell_type": "code",
   "execution_count": 1,
   "metadata": {},
   "outputs": [],
   "source": [
    "import pytoon\n",
    "\n",
    "def rasterize(rgba_Dt, xdim=(-1,1,20), ydim=(-1,1,20), pixel_aspect_ratio=1):\n",
    "    # rgba_Dt should be a function of x and y that returns a 2-tuple of rgbs and Dt, where\n",
    "    # where Dt is the time resolution to use at that point in space and\n",
    "    # rgba is a function of time (and it can ignore the time argument), returning a 2-tuple\n",
    "    # which is the rgb code (in #RRGGBB form) and alpha value at that x,y point (at that time);\n",
    "    # the code can recover if the alpha value is omitted (a value instead of a tuple is returned)\n",
    "    # by omitting the alpha channel (no transparency).\n",
    "    #\n",
    "    Py = pixel_aspect_ratio\n",
    "    Px = 1 / Py            # hard-coded:  pixel area is 1\n",
    "    px = (1.001) * Px/2    # fudge factor to overlap edges just slightly ...\n",
    "    py = (1.001) * Py/2    # ... looks a lot better than leaving even a tiny gap (due to roundings?)\n",
    "    pixel = pytoon.polygon(points=[(-px,-py),(px,-py),(px,py),(-px,py)], lstyle=False)\n",
    "    #\n",
    "    def color(x, y, layer):\n",
    "        rgba, Dt = rgba_Dt(x,y)\n",
    "        if layer==\"upper\":\n",
    "            alpha = lambda a: a/2\n",
    "        else:\n",
    "            alpha = lambda a: a/(2-a)\n",
    "        def value(_t_):\n",
    "            rgb_a = rgba(_t_)\n",
    "            try:\n",
    "                rgb, a = rgb_a\n",
    "            except TypeError:\n",
    "                rgb, a = rgb_a, 1\n",
    "            a = 1 if (a is None) else a\n",
    "            return pytoon.colordef(rgb=rgb, a=alpha(a))\n",
    "        return pytoon.animated(value, Dt=Dt)\n",
    "    #\n",
    "    xmin, xmax, Nx = xdim\n",
    "    ymin, ymax, Ny = ydim\n",
    "    Dx = (xmax-xmin) / Nx\n",
    "    Dy = (ymax-ymin) / Ny\n",
    "    lower = []\n",
    "    for i in range(Nx+1):\n",
    "        x = xmin + i*Dx\n",
    "        for j in range(Ny+1):\n",
    "            y = ymin + j*Dy\n",
    "            lower += [ pixel(fstyle=color(x,y,\"upper\")).T(i*Px, j*Py) ]\n",
    "    upper = []\n",
    "    for i in range(Nx):\n",
    "        x = xmin + (i+1/2)*Dx \n",
    "        for j in range(Ny):\n",
    "            y = ymin + (j+1/2)*Dy\n",
    "            upper += [pixel(fstyle=color(x,y,\"upper\")).T((i+1/2)*Px, (j+1/2)*Py)]\n",
    "    #\n",
    "    return pytoon.composite([*lower, *upper])"
   ]
  },
  {
   "cell_type": "code",
   "execution_count": 2,
   "metadata": {},
   "outputs": [],
   "source": [
    "from math import cos, pi\n",
    "\n",
    "def rgba_Dt(x,y):\n",
    "    def rgba(t):\n",
    "        a = 0.5 + (x**2 + y**2) * cos(2*pi*t) / 4.001\n",
    "        return \"#ff0000\", a\n",
    "    return rgba, 0.05\n",
    "\n",
    "pytoon.composite([\n",
    "    pytoon.circle(radius=10).T(10,10),\n",
    "    rasterize(rgba_Dt)\n",
    "]).svg(\"outputs/rasterized\", time=(0,1), duration=5, background=\"#333333\")"
   ]
  },
  {
   "cell_type": "markdown",
   "metadata": {},
   "source": [
    "[link to animation file](files/outputs/rasterized.svg)"
   ]
  }
 ],
 "metadata": {
  "kernelspec": {
   "display_name": "Python 3",
   "language": "python",
   "name": "python3"
  },
  "language_info": {
   "codemirror_mode": {
    "name": "ipython",
    "version": 3
   },
   "file_extension": ".py",
   "mimetype": "text/x-python",
   "name": "python",
   "nbconvert_exporter": "python",
   "pygments_lexer": "ipython3",
   "version": "3.8.6"
  }
 },
 "nbformat": 4,
 "nbformat_minor": 4
}
