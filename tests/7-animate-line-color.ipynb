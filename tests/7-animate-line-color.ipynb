{
 "cells": [
  {
   "cell_type": "markdown",
   "metadata": {},
   "source": [
    "© Copyright 2020 Anthony D. Dutoi\n",
    "\n",
    "This file is part of PyToon.\n",
    "\n",
    "PyToon is free software: you can redistribute it and/or modify\n",
    "it under the terms of the GNU General Public License as published by\n",
    "the Free Software Foundation, either version 3 of the License, or\n",
    "(at your option) any later version.\n",
    "\n",
    "This program is distributed in the hope that it will be useful,\n",
    "but WITHOUT ANY WARRANTY; without even the implied warranty of\n",
    "MERCHANTABILITY or FITNESS FOR A PARTICULAR PURPOSE.  See the\n",
    "GNU General Public License for more details.\n",
    "\n",
    "You should have received a copy of the GNU General Public License\n",
    "along with this program.  If not, see <http://www.gnu.org/licenses/>."
   ]
  },
  {
   "cell_type": "code",
   "execution_count": 1,
   "metadata": {},
   "outputs": [],
   "source": [
    "from math import pi, sin, cos\n",
    "from util import int_round\n",
    "from pytoon import *\n",
    "from IPython.display import SVG"
   ]
  },
  {
   "cell_type": "code",
   "execution_count": 2,
   "metadata": {},
   "outputs": [],
   "source": [
    "def w(_t_):\n",
    "    return 1.001 - sin(2*pi*_t_)\n",
    "\n",
    "def c(_t_):\n",
    "    return (0,10*w(_t_))\n",
    "\n",
    "def g(_t_):\n",
    "    c2 = cos(2*pi*_t_) ** 2\n",
    "    s2 = sin(2*pi*_t_) ** 2\n",
    "    rr = \"{:02x}\".format(int_round(c2*0xff + s2*0))\n",
    "    bb = \"{:02x}\".format(int_round(s2*0xff + c2*0))\n",
    "    return \"#\" + rr + \"00\" + bb\n",
    "\n",
    "composite([\n",
    "    line(begin=animated(c,Dt=0.05), end=(100,0), lstyle=animated(g,Dt=0.05))\n",
    "]).svg(\"outputs/animated-color\", time=(0,1), duration=1)"
   ]
  },
  {
   "cell_type": "markdown",
   "metadata": {},
   "source": [
    "[link to animation file](files/outputs/animated-color.svg)"
   ]
  },
  {
   "cell_type": "code",
   "execution_count": 3,
   "metadata": {},
   "outputs": [
    {
     "data": {
      "image/svg+xml": [
       "<svg xmlns=\"http://www.w3.org/2000/svg\" width=\"100%\" height=\"100%\" viewBox=\"-10.0 -22.011 120.0 24.011999999999997\" onload=\"Init(evt)\">\n",
       "\n",
       "  <desc>\n",
       "    This file was created using the PyToon package by Anthony D. Dutoi [https://github.com/adutoi/PyToon, tonydutoi@gmail.com].\n",
       "    The scripting to implement the &quot;play/pause&quot; button was adapted with gratitude from an example found online,\n",
       "    written by Doug Schepers [doug@schepers.cc], November 2004.\n",
       "  </desc>\n",
       "\n",
       "  <script>\n",
       "\n",
       "    var SVGDocument = null;\n",
       "    var SVGRoot     = null;\n",
       "    var svgns       = 'http://www.w3.org/2000/svg';\n",
       "    var xlinkns     = 'http://www.w3.org/1999/xlink';\n",
       "    var pauseButton = null;\n",
       "    var playButton  = null;\n",
       "\n",
       "    function Init(evt)\n",
       "    {\n",
       "      SVGDocument = evt.target.ownerDocument;\n",
       "      SVGRoot     = SVGDocument.documentElement;\n",
       "      pauseButton = SVGDocument.getElementById('pauseGroup');\n",
       "      playButton  = SVGDocument.getElementById('playGroup');\n",
       "      SVGRoot.addEventListener('keyup', function (e) {if(e.keyCode==32||e.keyCode==66){Toggle();}else if(e.keyCode==82||e.keyCode==27||e.keyCode==116||e.keyCode==80){Reset(0);}else if(e.keyCode==37){FrameBackward();}else if(e.keyCode==39){FrameForward();}}, false);\n",
       "      SVGRoot.pauseAnimations();\n",
       "    };\n",
       "\n",
       "    function Toggle()\n",
       "    {\n",
       "      if (SVGRoot.animationsPaused()) {Play();}\n",
       "      else                            {Pause();}\n",
       "    };\n",
       "\n",
       "    function Pause()\n",
       "    {\n",
       "      SVGRoot.pauseAnimations();\n",
       "      pauseButton.setAttributeNS(null, 'display', 'none');\n",
       "      playButton.setAttributeNS( null, 'display', 'inline');\n",
       "    };\n",
       "\n",
       "    function Play()\n",
       "    {\n",
       "      SVGRoot.unpauseAnimations();\n",
       "      playButton.setAttributeNS( null, 'display', 'none');\n",
       "      pauseButton.setAttributeNS(null, 'display', 'inline');\n",
       "    };\n",
       "\n",
       "    function Reset(timepoint)\n",
       "    {\n",
       "      SVGRoot.setCurrentTime(timepoint);\n",
       "    };\n",
       "\n",
       "    function FrameForward()\n",
       "    {\n",
       "      timepoint = SVGRoot.getCurrentTime() + 0.2\n",
       "      SVGRoot.setCurrentTime(timepoint);\n",
       "    };\n",
       "\n",
       "    function FrameBackward()\n",
       "    {\n",
       "      timepoint = SVGRoot.getCurrentTime() - 0.2\n",
       "      SVGRoot.setCurrentTime(timepoint);\n",
       "    };\n",
       "\n",
       "  </script>\n",
       "\n",
       "  <path stroke-width=\"1\" fill=\"none\">\n",
       "    <animate attributeName=\"stroke\" repeatCount=\"indefinite\" dur=\"1s\" KeyTimes=\"0; 0.05; 0.1; 0.15000000000000002; 0.2; 0.25; 0.30000000000000004; 0.35000000000000003; 0.4; 0.45; 0.5; 0.55; 0.6000000000000001; 0.65; 0.7000000000000001; 0.75; 0.8; 0.8500000000000001; 0.9; 0.9500000000000001; 1\" values=\"         #ff0000;         #e70018;         #a70058;         #5800a7;         #1800e7;         #0000ff;         #1800e7;         #5800a7;         #a70058;         #e70018;         #ff0000;         #e70018;         #a70058;         #5800a7;         #1800e7;         #0000ff;         #1800e7;         #5800a7;         #a70058;         #e70018;         #ff0000       \"/>\n",
       "    <animate attributeName=\"stroke-opacity\" repeatCount=\"indefinite\" dur=\"1s\" KeyTimes=\"0; 0.05; 0.1; 0.15000000000000002; 0.2; 0.25; 0.30000000000000004; 0.35000000000000003; 0.4; 0.45; 0.5; 0.55; 0.6000000000000001; 0.65; 0.7000000000000001; 0.75; 0.8; 0.8500000000000001; 0.9; 0.9500000000000001; 1\" values=\"         1;         1;         1;         1;         1;         1;         1;         1;         1;         1;         1;         1;         1;         1;         1;         1;         1;         1;         1;         1;         1       \"/>\n",
       "    <animate attributeName=\"d\" repeatCount=\"indefinite\" dur=\"1s\" KeyTimes=\"0; 0.05; 0.1; 0.15; 0.2; 0.25; 0.3; 0.35; 0.4; 0.45; 0.5; 0.55; 0.6; 0.65; 0.7; 0.75; 0.8; 0.85; 0.9; 0.95; 1\" values=\"         M 0 -10.01 L 100 0;         M 0 -6.9198 L 100 0;         M 0 -4.1321 L 100 0;         M 0 -1.9198 L 100 0;         M 0 -0.49943 L 100 0;         M 0 -0.01 L 100 0;         M 0 -0.49943 L 100 0;         M 0 -1.9198 L 100 0;         M 0 -4.1321 L 100 0;         M 0 -6.9198 L 100 0;         M 0 -10.01 L 100 0;         M 0 -13.1 L 100 0;         M 0 -15.888 L 100 0;         M 0 -18.1 L 100 0;         M 0 -19.521 L 100 0;         M 0 -20.01 L 100 0;         M 0 -19.521 L 100 0;         M 0 -18.1 L 100 0;         M 0 -15.888 L 100 0;         M 0 -13.1 L 100 0;         M 0 -10.01 L 100 0       \"/>\n",
       "  </path>\n",
       "\n",
       "</svg>"
      ],
      "text/plain": [
       "<IPython.core.display.SVG object>"
      ]
     },
     "execution_count": 3,
     "metadata": {},
     "output_type": "execute_result"
    }
   ],
   "source": [
    "SVG(\"outputs/animated-color.svg\")"
   ]
  },
  {
   "cell_type": "code",
   "execution_count": null,
   "metadata": {},
   "outputs": [],
   "source": []
  }
 ],
 "metadata": {
  "kernelspec": {
   "display_name": "Python 3",
   "language": "python",
   "name": "python3"
  },
  "language_info": {
   "codemirror_mode": {
    "name": "ipython",
    "version": 3
   },
   "file_extension": ".py",
   "mimetype": "text/x-python",
   "name": "python",
   "nbconvert_exporter": "python",
   "pygments_lexer": "ipython3",
   "version": "3.8.6"
  }
 },
 "nbformat": 4,
 "nbformat_minor": 4
}
