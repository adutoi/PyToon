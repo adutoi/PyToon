{
 "cells": [
  {
   "cell_type": "code",
   "execution_count": 1,
   "metadata": {},
   "outputs": [],
   "source": [
    "from pytoon import *\n",
    "\n",
    "\n",
    "\"\"\"\n",
    "def f(x,y):\n",
    "    a = (x**2 + y**2) / 2.001\n",
    "    return \"#ff0000 * {}\".format(a)\n",
    "\n",
    "square = polygon(points=[(-0.5,-0.5),(0.5,-0.5),(0.5,0.5),(-0.5,0.5)], lstyle=False)\n",
    "\n",
    "pixels = []\n",
    "for i in range(-50,51):\n",
    "    x = i/50\n",
    "    for j in range(-50,51):\n",
    "        y = j/50\n",
    "        pixels += [square(fstyle=f(x,y)).T(i,j)]\n",
    "\n",
    "composite([\n",
    "    square().S(200),\n",
    "    circle(radius=50),\n",
    "    *pixels\n",
    "]).svg()\n",
    "\"\"\""
   ]
  },
  {
   "cell_type": "code",
   "execution_count": 2,
   "metadata": {},
   "outputs": [],
   "source": [
    "from math import cos, pi\n",
    "\n",
    "def f(x,y):\n",
    "    a = (x**2 + y**2) / 4.001\n",
    "    def g(_t_):\n",
    "        b = 0.5 + a*cos(2*pi*_t_)\n",
    "        return \"#ff0000 * {}\".format(b)\n",
    "    return animated(g,Dt=0.05)\n",
    "\n",
    "square = polygon(points=[(-0.5,-0.5),(0.5,-0.5),(0.5,0.5),(-0.5,0.5)], lstyle=False)\n",
    "\n",
    "pixels = []\n",
    "for i in range(-25,26):\n",
    "    x = i/25\n",
    "    for j in range(-25,26):\n",
    "        y = j/25\n",
    "        pixels += [square(fstyle=f(x,y)).T(i,j).S(2)]\n",
    "\n",
    "composite([\n",
    "    square().S(200),\n",
    "    circle(radius=50),\n",
    "    *pixels\n",
    "]).svg(time=(0,1), duration=5, background=\"#333333\")"
   ]
  },
  {
   "cell_type": "code",
   "execution_count": null,
   "metadata": {},
   "outputs": [],
   "source": []
  }
 ],
 "metadata": {
  "kernelspec": {
   "display_name": "Python 3",
   "language": "python",
   "name": "python3"
  },
  "language_info": {
   "codemirror_mode": {
    "name": "ipython",
    "version": 3
   },
   "file_extension": ".py",
   "mimetype": "text/x-python",
   "name": "python",
   "nbconvert_exporter": "python",
   "pygments_lexer": "ipython3",
   "version": "3.8.5"
  }
 },
 "nbformat": 4,
 "nbformat_minor": 4
}
