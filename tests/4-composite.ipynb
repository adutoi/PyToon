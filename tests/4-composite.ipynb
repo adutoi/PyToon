{
 "cells": [
  {
   "cell_type": "markdown",
   "metadata": {},
   "source": [
    "© Copyright 2020 Anthony D. Dutoi\n",
    "\n",
    "This file is part of PyToon.\n",
    "\n",
    "PyToon is free software: you can redistribute it and/or modify\n",
    "it under the terms of the GNU General Public License as published by\n",
    "the Free Software Foundation, either version 3 of the License, or\n",
    "(at your option) any later version.\n",
    "\n",
    "This program is distributed in the hope that it will be useful,\n",
    "but WITHOUT ANY WARRANTY; without even the implied warranty of\n",
    "MERCHANTABILITY or FITNESS FOR A PARTICULAR PURPOSE.  See the\n",
    "GNU General Public License for more details.\n",
    "\n",
    "You should have received a copy of the GNU General Public License\n",
    "along with this program.  If not, see <http://www.gnu.org/licenses/>."
   ]
  },
  {
   "cell_type": "code",
   "execution_count": 1,
   "metadata": {},
   "outputs": [],
   "source": [
    "from IPython.display import SVG\n",
    "from pytoon import line, circle, composite, translate, rotate, scale, zoom, stretch"
   ]
  },
  {
   "cell_type": "code",
   "execution_count": 2,
   "metadata": {},
   "outputs": [
    {
     "data": {
      "image/svg+xml": [
       "<svg xmlns=\"http://www.w3.org/2000/svg\" width=\"100%\" height=\"100%\" viewBox=\"-120.0 -110.0 240.0 120.0\">\n",
       "\n",
       "  <desc>\n",
       "    This file was created using the PyToon package by Anthony D. Dutoi [https://github.com/adutoi/PyToon, tonydutoi@gmail.com].\n",
       "  </desc>\n",
       "\n",
       "  <path stroke=\"#008000\" stroke-width=\"1\" fill=\"none\" d=\"M 0 0 L 100 -100\"/>\n",
       "  <path stroke=\"#000000\" stroke-width=\"1\" fill=\"none\" d=\"M 0 -0 L -100 -100\"/>\n",
       "  <circle stroke=\"#000000\" stroke-width=\"1\" fill=\"none\" r=\"15\" cx=\"0\" cy=\"-50\"/>\n",
       "\n",
       "</svg>"
      ],
      "text/plain": [
       "<IPython.core.display.SVG object>"
      ]
     },
     "execution_count": 2,
     "metadata": {},
     "output_type": "execute_result"
    }
   ],
   "source": [
    "image0 = composite(\n",
    "    [\n",
    "        line(lstyle=\"somecolor\"),\n",
    "        line(transform=rotate(90)),\n",
    "        circle(center=(0,50), radius=\"radius\"),\n",
    "    ],\n",
    "    somecolor=\"green\",\n",
    "    radius=15\n",
    ")\n",
    "\n",
    "image0.svg(\"outputs/composite0\")\n",
    "SVG(\"outputs/composite0.svg\")"
   ]
  },
  {
   "cell_type": "code",
   "execution_count": 3,
   "metadata": {},
   "outputs": [
    {
     "data": {
      "image/svg+xml": [
       "<svg xmlns=\"http://www.w3.org/2000/svg\" width=\"100%\" height=\"100%\" viewBox=\"-190.0 -120.0 480.0 240.0\">\n",
       "\n",
       "  <desc>\n",
       "    This file was created using the PyToon package by Anthony D. Dutoi [https://github.com/adutoi/PyToon, tonydutoi@gmail.com].\n",
       "  </desc>\n",
       "\n",
       "  <path stroke=\"#008000\" stroke-width=\"1\" fill=\"none\" d=\"M -0 -0 L -100 100\"/>\n",
       "  <path stroke=\"#000000\" stroke-width=\"1\" fill=\"none\" d=\"M -0 -0 L 100 100\"/>\n",
       "  <circle stroke=\"#000000\" stroke-width=\"1\" fill=\"none\" r=\"15\" cx=\"-6.1232e-15\" cy=\"50\"/>\n",
       "  <path stroke=\"#008000\" stroke-width=\"1\" fill=\"none\" d=\"M 100 0 L 200 -100\"/>\n",
       "  <path stroke=\"#000000\" stroke-width=\"1\" fill=\"none\" d=\"M 100 -0 L 0 -100\"/>\n",
       "  <circle stroke=\"#000000\" stroke-width=\"1\" fill=\"none\" r=\"15\" cx=\"100\" cy=\"-50\"/>\n",
       "  <path stroke=\"#008000\" stroke-width=\"0.5\" fill=\"none\" d=\"M 0 -0 L 50 -50\"/>\n",
       "  <path stroke=\"#000000\" stroke-width=\"0.5\" fill=\"none\" d=\"M 0 -0 L -50 -50\"/>\n",
       "  <circle stroke=\"#000000\" stroke-width=\"0.5\" fill=\"none\" r=\"7.5\" cx=\"0\" cy=\"-25\"/>\n",
       "  <path stroke=\"#008000\" stroke-width=\"1\" fill=\"none\" d=\"M -100 -0 L -50 -50\"/>\n",
       "  <path stroke=\"#000000\" stroke-width=\"1\" fill=\"none\" d=\"M -100 -0 L -150 -50\"/>\n",
       "  <circle stroke=\"#000000\" stroke-width=\"1\" fill=\"none\" r=\"7.5\" cx=\"-100\" cy=\"-25\"/>\n",
       "  <path stroke=\"#008000\" stroke-width=\"1\" fill=\"none\" d=\"M 200 -0 L 150 50\"/>\n",
       "  <path stroke=\"#000000\" stroke-width=\"1\" fill=\"none\" d=\"M 200 -0 L 250 50\"/>\n",
       "  <circle stroke=\"#000000\" stroke-width=\"1\" fill=\"none\" r=\"15\" cx=\"200\" cy=\"25\"/>\n",
       "\n",
       "</svg>"
      ],
      "text/plain": [
       "<IPython.core.display.SVG object>"
      ]
     },
     "execution_count": 3,
     "metadata": {},
     "output_type": "execute_result"
    }
   ],
   "source": [
    "image1 = composite([\n",
    "    image0(transform=rotate(180)),\n",
    "    image0(transform=translate(100,0)),\n",
    "    image0(transform=scale(0.5)),\n",
    "    image0(transform=zoom(0.5))(transform=translate(-100,0)),\n",
    "    image0(transform=stretch(0.5))(transform=rotate(180))(transform=translate(200,0))\n",
    "])\n",
    "\n",
    "image1.svg(\"outputs/composite1\")\n",
    "SVG(\"outputs/composite1.svg\")"
   ]
  },
  {
   "cell_type": "code",
   "execution_count": null,
   "metadata": {},
   "outputs": [],
   "source": []
  }
 ],
 "metadata": {
  "anaconda-cloud": {},
  "kernelspec": {
   "display_name": "Python 3",
   "language": "python",
   "name": "python3"
  },
  "language_info": {
   "codemirror_mode": {
    "name": "ipython",
    "version": 3
   },
   "file_extension": ".py",
   "mimetype": "text/x-python",
   "name": "python",
   "nbconvert_exporter": "python",
   "pygments_lexer": "ipython3",
   "version": "3.8.5"
  }
 },
 "nbformat": 4,
 "nbformat_minor": 1
}
