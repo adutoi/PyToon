{
 "cells": [
  {
   "cell_type": "markdown",
   "metadata": {},
   "source": [
    "© Copyright 2020 Anthony D. Dutoi\n",
    "\n",
    "This file is part of PyToon.\n",
    "\n",
    "PyToon is free software: you can redistribute it and/or modify\n",
    "it under the terms of the GNU General Public License as published by\n",
    "the Free Software Foundation, either version 3 of the License, or\n",
    "(at your option) any later version.\n",
    "\n",
    "This program is distributed in the hope that it will be useful,\n",
    "but WITHOUT ANY WARRANTY; without even the implied warranty of\n",
    "MERCHANTABILITY or FITNESS FOR A PARTICULAR PURPOSE.  See the\n",
    "GNU General Public License for more details.\n",
    "\n",
    "You should have received a copy of the GNU General Public License\n",
    "along with this program.  If not, see <http://www.gnu.org/licenses/>."
   ]
  },
  {
   "cell_type": "markdown",
   "metadata": {},
   "source": [
    "Consider a grid of square cells in 2D.  We will assume that the dimensions of these cells is much smaller than any length scale that we care about (taken to be infinitesemal eventually).  We will assert that the areas of these cells shall be constant even as they are subjected to rectangular distortions.  In particular, let there be a function $f$ of the horizontal coordinate $x$ which scales the cells in the y direction (so the horizontal boundaries of adjacent columns will no longer align).  In other words, for the $i^\\text{th}$ column (and $j^\\text{th}$ row), we have the following transformations (prime does not mean derivative)\n",
    "$$\n",
    "y_{ij}^\\prime = f(x_i) \\, y_{ij}\n",
    "$$\n",
    "and\n",
    "$$\n",
    "\\Delta y_{i}^\\prime = f(x_i) \\, \\Delta y_{i}\n",
    "$$\n",
    "So the corresponding transformations in the x direction must be\n",
    "$$\n",
    "\\Delta x_i^\\prime = \\frac{1}{f(x_i)} \\, \\Delta x_i\n",
    "$$\n",
    "$$\n",
    "x_i^\\prime = \\sum_{j=0}^{i} \\Delta x_i = \\sum_{j=0}^{i} \\frac{1}{f(x_i)} \\, \\Delta x_i\n",
    "$$\n",
    "In the infinitesemal limit, we then obtain\n",
    "$$\n",
    "y^\\prime = f(x) \\, y\n",
    "$$\n",
    "and\n",
    "$$\n",
    "x^\\prime = \\int_0^x \\text{d}x \\frac{1}{f(x)}\n",
    "$$\n",
    "\n",
    "Now, assuming we want to describe a distortion which preserves the area in any given location (to mimic an incompressible fluid) but which gives a sinusoidal wave as a surface then we can use\n",
    "$$\n",
    "f(x) = 1-A\\cos(2\\pi\\tilde{\\nu}x) ~~~~; A<1~\\text{is the amplitude of the wave (relative to the depth)}\n",
    "$$\n",
    "By plodding around with Mathematica and filling in the gaps by hand (easy to verify by straightforward differentiation), we have\n",
    "$$\n",
    "\\int_0^x \\text{d}x \\frac{1}{1-A\\cos(2\\pi\\tilde{\\nu}x)} = \\frac{1}{\\pi\\tilde{\\nu}\\sqrt{1-A^2}}\\tan^{-1}\\left(\\sqrt{\\frac{1+A}{1-A}}\\tan(\\pi\\tilde{\\nu}x)\\right)\n",
    "$$\n",
    "This is sort of a nasty function which only works over the interval $\\bar{\\nu}x \\in (-\\frac{1}{2},+\\frac{1}{2})$.  Even if we discount the unlikely event of landing exactly on one of the indeterminate endpoints, it will alias values outside this range to values inside this range, so the x coordinate needs to be broken up and handled piecewise.\n",
    "\n",
    "More problematic is that, when used in the form above, we get a weird artifact at the cutting boundary which turns out not to be a numerical instability due to the divergent $\\tan$ function (the combination with $\\tan^{-1}$ is stable).  The problem is that\n",
    "$$\n",
    "\\lim_{\\tilde{\\nu}x\\rightarrow\\frac{1}{2}^-} \\left[\\tilde{\\nu}x^\\prime = \\frac{1}{\\pi\\sqrt{1-A^2}}\\tan^{-1}\\left(\\sqrt{\\frac{1+A}{1-A}}\\tan(\\pi\\tilde{\\nu}x)\\right)\\right] = \\frac{1}{2\\sqrt{1-A^2}}\n",
    "$$\n",
    "where the superscript \"$-$\" means \"limit from the left\".  One can intuit that the mapping should return its own argument at $0$ and $\\pm\\frac{1}{2}$, so it seems to be off by a factor of $(1-A^2)^{-1/2}$.  So I removed it and it looks really good; not sure what went wrong, maybe working to fast and missed some detail or extra condition?."
   ]
  },
  {
   "cell_type": "code",
   "execution_count": 1,
   "metadata": {},
   "outputs": [],
   "source": [
    "from math import pi, sin, cos, tan, atan, sqrt, modf\n",
    "import random\n",
    "from util import int_round\n",
    "from pytoon import struct, composite, circle, polygon, positional_transform\n",
    "\n",
    "rand = lambda: random.uniform(-0.35, 0.35)\n",
    "\n",
    "def modf_min(x):\n",
    "    f, i = modf(x)\n",
    "    if f<-0.5:\n",
    "        return f+1, i-1\n",
    "    elif f>=0.5:\n",
    "        return f-1, i+1\n",
    "    else:\n",
    "        return f, i"
   ]
  },
  {
   "cell_type": "code",
   "execution_count": 2,
   "metadata": {},
   "outputs": [],
   "source": [
    "def distort(L, T, t):\n",
    "    A = 0.1\n",
    "    def f(p):\n",
    "        x, y = p        \n",
    "        xP = x/L - t/T\n",
    "        y = y * (1 - A*cos(2*pi*xP))\n",
    "        xPf, xPi = modf_min(xP)\n",
    "        xP = xPi + atan(sqrt((1+A)/(1-A)) * tan(pi*xPf)) / pi\n",
    "        x = L * (xP + t/T)\n",
    "        return x,y\n",
    "    return f, 1"
   ]
  },
  {
   "cell_type": "code",
   "execution_count": 3,
   "metadata": {},
   "outputs": [],
   "source": [
    "X, Y, d = 600, 200, 15\n",
    "\n",
    "Nx, Ny = int_round(X/d), int_round(Y/d)\n",
    "Px, Py = [i*X/Nx for i in range(Nx+1)], [i*Y/Ny for i in range(Ny+1)]\n",
    "\n",
    "positions = []\n",
    "for x in Px:\n",
    "    for y in Py:\n",
    "        positions += [(x+rand()*d, y+rand()*d)]\n",
    "special = ((Nx+1)*(Ny+1))//2 - (Ny+1)//4 - 1\n",
    "\n",
    "block              = polygon(lstyle=False, fstyle=\"#202020\")\n",
    "molecule           = circle(radius=4, lstyle=(\"black\",0.25), fstyle=\"#3bba9c\")\n",
    "molecules          = [molecule(center=(x,y)) for x,y in positions]\n",
    "surface            = [(i*X/125,Y*1.05) for i in range(125+1)]\n",
    "\n",
    "wavy = [i*X/125 for i in range(63)]\n",
    "wavy = [(x,10) for x in wavy] + [(x,-10) for x in reversed(wavy)]\n",
    "wavy = polygon(points=wavy, lstyle=(\"black\",0.25), fstyle=\"green\").S(0.40).R(60).T(0,-15)\n",
    "\n",
    "image = composite([\n",
    "    composite([\n",
    "        polygon(points=[(0,-20),*surface,(X,-20)], lstyle=False, fstyle=\"#233142\"),\n",
    "        *molecules,\n",
    "        wavy.S(1).T(60,0), wavy.S(1.1).T(150,0), wavy.S(1.2).T(195,0), wavy.S(0.7).T(300,0), wavy.S(1.5).T(470,0), wavy.S(1).T(510,0), wavy.S(0.8).T(530,0)\n",
    "    ], transform=positional_transform(distort, L=X/2, T=\"T\", t=\"_t_\").animated(Dt=0.1)),\n",
    "    molecules[special](radius=2, fstyle=\"red\"),\n",
    "    block(points=[(-10,20),(-10,-15),(X+10,-15),(X+10,20)], fstyle=\"brown\").T(0,-30),\n",
    "    block(points=[(-15,-46),(-15,Y*1.5),(20,Y*1.5),(20,-46)]),\n",
    "    block(points=[(X-20,-46),(X-20,Y*1.5),(X+15,Y*1.5),(X+15,-46)])\n",
    "])"
   ]
  },
  {
   "cell_type": "code",
   "execution_count": 4,
   "metadata": {},
   "outputs": [],
   "source": [
    "T = 3\n",
    "\n",
    "image(T=T).svg(\"waterwave\", title=\"Wave on the Surface of Water\", time=(0,T), duration=T, background=\"#202020\", controls=False)"
   ]
  },
  {
   "cell_type": "markdown",
   "metadata": {},
   "source": [
    "[link to animation file](files/waterwave.svg)"
   ]
  }
 ],
 "metadata": {
  "anaconda-cloud": {},
  "kernelspec": {
   "display_name": "Python 3",
   "language": "python",
   "name": "python3"
  },
  "language_info": {
   "codemirror_mode": {
    "name": "ipython",
    "version": 3
   },
   "file_extension": ".py",
   "mimetype": "text/x-python",
   "name": "python",
   "nbconvert_exporter": "python",
   "pygments_lexer": "ipython3",
   "version": "3.7.6"
  }
 },
 "nbformat": 4,
 "nbformat_minor": 1
}
