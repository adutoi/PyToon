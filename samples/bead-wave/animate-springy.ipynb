{
 "cells": [
  {
   "cell_type": "markdown",
   "metadata": {},
   "source": [
    "© Copyright 2020 Anthony D. Dutoi\n",
    "\n",
    "This file is part of PyToon.\n",
    "\n",
    "PyToon is free software: you can redistribute it and/or modify\n",
    "it under the terms of the GNU General Public License as published by\n",
    "the Free Software Foundation, either version 3 of the License, or\n",
    "(at your option) any later version.\n",
    "\n",
    "This program is distributed in the hope that it will be useful,\n",
    "but WITHOUT ANY WARRANTY; without even the implied warranty of\n",
    "MERCHANTABILITY or FITNESS FOR A PARTICULAR PURPOSE.  See the\n",
    "GNU General Public License for more details.\n",
    "\n",
    "You should have received a copy of the GNU General Public License\n",
    "along with this program.  If not, see <http://www.gnu.org/licenses/>."
   ]
  },
  {
   "cell_type": "code",
   "execution_count": 1,
   "metadata": {},
   "outputs": [],
   "source": [
    "from math import pi, sin, cos\n",
    "from pytoon import struct, composite, circle, polygon, positional_transform"
   ]
  },
  {
   "cell_type": "code",
   "execution_count": 2,
   "metadata": {},
   "outputs": [],
   "source": [
    "def compress(L, T, t):\n",
    "    def f(p):\n",
    "        x, y = p\n",
    "        y = y*(2 - cos(2*pi*( x/L - t/T )))\n",
    "        x = x +  8*sin(2*pi*( x/L - t/T ))\n",
    "        return x,y\n",
    "    return f, 1\n",
    "\n",
    "wave = positional_transform(compress, L=\"L\", T=\"T\", t=\"_t_\")"
   ]
  },
  {
   "cell_type": "code",
   "execution_count": 3,
   "metadata": {},
   "outputs": [],
   "source": [
    "length, beads = 600, 50\n",
    "positions = [i*(length/beads) for i in range(beads)]\n",
    "\n",
    "image = composite([\n",
    "    *(polygon(points=[(b,-1), (e,-1), (e,1), (b,1)], fstyle=\"silver\", lstyle=False) for b,e in zip(positions,positions[1:])),\n",
    "    *(circle(radius=4, center=(x,0), fstyle=\"#3bba9c\", lstyle=(\"black\",0.25)) for x in positions)\n",
    "], transform=wave.animated(Dt=\"Dt\"), L=lambda N: length/N)"
   ]
  },
  {
   "cell_type": "code",
   "execution_count": 4,
   "metadata": {},
   "outputs": [],
   "source": [
    "T, Dt, N, duration = 1, 0.08, 3, 4\n",
    "\n",
    "image(T=T, Dt=Dt, N=N).svg(\"animate-springy\", title=\"Acoustic Wave in 1D Lattice\", time=(0,T), duration=duration, controls=struct(scale=0))"
   ]
  },
  {
   "cell_type": "markdown",
   "metadata": {},
   "source": [
    "[link to animation file](files/animate-springy.svg)"
   ]
  }
 ],
 "metadata": {
  "anaconda-cloud": {},
  "kernelspec": {
   "display_name": "Python 3",
   "language": "python",
   "name": "python3"
  },
  "language_info": {
   "codemirror_mode": {
    "name": "ipython",
    "version": 3
   },
   "file_extension": ".py",
   "mimetype": "text/x-python",
   "name": "python",
   "nbconvert_exporter": "python",
   "pygments_lexer": "ipython3",
   "version": "3.7.6"
  }
 },
 "nbformat": 4,
 "nbformat_minor": 1
}
